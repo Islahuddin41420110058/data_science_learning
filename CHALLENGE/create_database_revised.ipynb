{
  "cells": [
    {
      "cell_type": "markdown",
      "metadata": {
        "id": "6KKSWiCRkjER"
      },
      "source": [
        "#LIBRARY"
      ]
    },
    {
      "cell_type": "code",
      "execution_count": 1,
      "metadata": {
        "id": "FA_EsK1ulrw2"
      },
      "outputs": [],
      "source": [
        "import pandas as pd \n",
        "import sqlite3"
      ]
    },
    {
      "cell_type": "markdown",
      "metadata": {
        "id": "cjKQQ5_Tko5M"
      },
      "source": [
        "#LOAD DATA"
      ]
    },
    {
      "cell_type": "code",
      "execution_count": null,
      "metadata": {
        "colab": {
          "base_uri": "https://localhost:8080/"
        },
        "id": "dOZLtRtQl87x",
        "outputId": "1a9983da-fbd5-437b-8480-ef350d4cf418"
      },
      "outputs": [
        {
          "name": "stdout",
          "output_type": "stream",
          "text": [
            "       Unnamed: 0                                          old_tweet  \\\n",
            "0               0  - disaat semua cowok berusaha melacak perhatia...   \n",
            "1               1  RT USER: USER siapa yang telat ngasih tau elu?...   \n",
            "2               2  41. Kadang aku berfikir, kenapa aku tetap perc...   \n",
            "3               3  USER USER AKU ITU AKU\\n\\nKU TAU MATAMU SIPIT T...   \n",
            "4               4  USER USER Kaum cebong kapir udah keliatan dong...   \n",
            "...           ...                                                ...   \n",
            "13164       13164  USER jangan asal ngomong ndasmu. congor lu yg ...   \n",
            "13165       13165                       USER Kasur mana enak kunyuk'   \n",
            "13166       13166  USER Hati hati bisu :( .g\\n\\nlagi bosan huft \\...   \n",
            "13167       13167  USER USER USER USER Bom yang real mudah terdet...   \n",
            "13168       13168  USER Mana situ ngasih(\": itu cuma foto ya kuti...   \n",
            "\n",
            "                                               new_tweet  \n",
            "0       di saat semua cowok berusaha melacak perhatia...  \n",
            "1       siapa yang telat memberi tau kamu edan sarap ...  \n",
            "2      41 kadang aku berpikir kenapa aku tetap percay...  \n",
            "3       aku itu aku dan ku tau matamu sipit tapi dili...  \n",
            "4       kaum cebong kafir sudah kelihatan dongoknya d...  \n",
            "...                                                  ...  \n",
            "13164   jangan asal berbicara ndasmu congor kamu yang...  \n",
            "13165                            kasur mana enak kunyuk   \n",
            "13166   hati hati bisu tidak dan lagi bosan duh xf0 x...  \n",
            "13167   bom yang real mudah terdeteksi bom yang terku...  \n",
            "13168     mana situ memberi itu cuma foto ya kutil onta   \n",
            "\n",
            "[13169 rows x 3 columns]\n"
          ]
        }
      ],
      "source": [
        "df = pd.read_csv('output_filename.csv', encoding='iso-8859-1',header=0)\n",
        "print(df)\n"
      ]
    },
    {
      "cell_type": "code",
      "execution_count": null,
      "metadata": {
        "colab": {
          "base_uri": "https://localhost:8080/",
          "height": 206
        },
        "id": "_K6fpYEMmT_p",
        "outputId": "55fef6f9-b9e5-44d4-ac11-ef57b5636aaf"
      },
      "outputs": [
        {
          "data": {
            "text/html": [
              "\n",
              "  <div id=\"df-c5ce6368-a730-4074-97de-d3f1c7796601\">\n",
              "    <div class=\"colab-df-container\">\n",
              "      <div>\n",
              "<style scoped>\n",
              "    .dataframe tbody tr th:only-of-type {\n",
              "        vertical-align: middle;\n",
              "    }\n",
              "\n",
              "    .dataframe tbody tr th {\n",
              "        vertical-align: top;\n",
              "    }\n",
              "\n",
              "    .dataframe thead th {\n",
              "        text-align: right;\n",
              "    }\n",
              "</style>\n",
              "<table border=\"1\" class=\"dataframe\">\n",
              "  <thead>\n",
              "    <tr style=\"text-align: right;\">\n",
              "      <th></th>\n",
              "      <th>Unnamed: 0</th>\n",
              "      <th>old_tweet</th>\n",
              "      <th>new_tweet</th>\n",
              "    </tr>\n",
              "  </thead>\n",
              "  <tbody>\n",
              "    <tr>\n",
              "      <th>0</th>\n",
              "      <td>0</td>\n",
              "      <td>- disaat semua cowok berusaha melacak perhatia...</td>\n",
              "      <td>di saat semua cowok berusaha melacak perhatia...</td>\n",
              "    </tr>\n",
              "    <tr>\n",
              "      <th>1</th>\n",
              "      <td>1</td>\n",
              "      <td>RT USER: USER siapa yang telat ngasih tau elu?...</td>\n",
              "      <td>siapa yang telat memberi tau kamu edan sarap ...</td>\n",
              "    </tr>\n",
              "    <tr>\n",
              "      <th>2</th>\n",
              "      <td>2</td>\n",
              "      <td>41. Kadang aku berfikir, kenapa aku tetap perc...</td>\n",
              "      <td>41 kadang aku berpikir kenapa aku tetap percay...</td>\n",
              "    </tr>\n",
              "    <tr>\n",
              "      <th>3</th>\n",
              "      <td>3</td>\n",
              "      <td>USER USER AKU ITU AKU\\n\\nKU TAU MATAMU SIPIT T...</td>\n",
              "      <td>aku itu aku dan ku tau matamu sipit tapi dili...</td>\n",
              "    </tr>\n",
              "    <tr>\n",
              "      <th>4</th>\n",
              "      <td>4</td>\n",
              "      <td>USER USER Kaum cebong kapir udah keliatan dong...</td>\n",
              "      <td>kaum cebong kafir sudah kelihatan dongoknya d...</td>\n",
              "    </tr>\n",
              "  </tbody>\n",
              "</table>\n",
              "</div>\n",
              "      <button class=\"colab-df-convert\" onclick=\"convertToInteractive('df-c5ce6368-a730-4074-97de-d3f1c7796601')\"\n",
              "              title=\"Convert this dataframe to an interactive table.\"\n",
              "              style=\"display:none;\">\n",
              "        \n",
              "  <svg xmlns=\"http://www.w3.org/2000/svg\" height=\"24px\"viewBox=\"0 0 24 24\"\n",
              "       width=\"24px\">\n",
              "    <path d=\"M0 0h24v24H0V0z\" fill=\"none\"/>\n",
              "    <path d=\"M18.56 5.44l.94 2.06.94-2.06 2.06-.94-2.06-.94-.94-2.06-.94 2.06-2.06.94zm-11 1L8.5 8.5l.94-2.06 2.06-.94-2.06-.94L8.5 2.5l-.94 2.06-2.06.94zm10 10l.94 2.06.94-2.06 2.06-.94-2.06-.94-.94-2.06-.94 2.06-2.06.94z\"/><path d=\"M17.41 7.96l-1.37-1.37c-.4-.4-.92-.59-1.43-.59-.52 0-1.04.2-1.43.59L10.3 9.45l-7.72 7.72c-.78.78-.78 2.05 0 2.83L4 21.41c.39.39.9.59 1.41.59.51 0 1.02-.2 1.41-.59l7.78-7.78 2.81-2.81c.8-.78.8-2.07 0-2.86zM5.41 20L4 18.59l7.72-7.72 1.47 1.35L5.41 20z\"/>\n",
              "  </svg>\n",
              "      </button>\n",
              "      \n",
              "  <style>\n",
              "    .colab-df-container {\n",
              "      display:flex;\n",
              "      flex-wrap:wrap;\n",
              "      gap: 12px;\n",
              "    }\n",
              "\n",
              "    .colab-df-convert {\n",
              "      background-color: #E8F0FE;\n",
              "      border: none;\n",
              "      border-radius: 50%;\n",
              "      cursor: pointer;\n",
              "      display: none;\n",
              "      fill: #1967D2;\n",
              "      height: 32px;\n",
              "      padding: 0 0 0 0;\n",
              "      width: 32px;\n",
              "    }\n",
              "\n",
              "    .colab-df-convert:hover {\n",
              "      background-color: #E2EBFA;\n",
              "      box-shadow: 0px 1px 2px rgba(60, 64, 67, 0.3), 0px 1px 3px 1px rgba(60, 64, 67, 0.15);\n",
              "      fill: #174EA6;\n",
              "    }\n",
              "\n",
              "    [theme=dark] .colab-df-convert {\n",
              "      background-color: #3B4455;\n",
              "      fill: #D2E3FC;\n",
              "    }\n",
              "\n",
              "    [theme=dark] .colab-df-convert:hover {\n",
              "      background-color: #434B5C;\n",
              "      box-shadow: 0px 1px 3px 1px rgba(0, 0, 0, 0.15);\n",
              "      filter: drop-shadow(0px 1px 2px rgba(0, 0, 0, 0.3));\n",
              "      fill: #FFFFFF;\n",
              "    }\n",
              "  </style>\n",
              "\n",
              "      <script>\n",
              "        const buttonEl =\n",
              "          document.querySelector('#df-c5ce6368-a730-4074-97de-d3f1c7796601 button.colab-df-convert');\n",
              "        buttonEl.style.display =\n",
              "          google.colab.kernel.accessAllowed ? 'block' : 'none';\n",
              "\n",
              "        async function convertToInteractive(key) {\n",
              "          const element = document.querySelector('#df-c5ce6368-a730-4074-97de-d3f1c7796601');\n",
              "          const dataTable =\n",
              "            await google.colab.kernel.invokeFunction('convertToInteractive',\n",
              "                                                     [key], {});\n",
              "          if (!dataTable) return;\n",
              "\n",
              "          const docLinkHtml = 'Like what you see? Visit the ' +\n",
              "            '<a target=\"_blank\" href=https://colab.research.google.com/notebooks/data_table.ipynb>data table notebook</a>'\n",
              "            + ' to learn more about interactive tables.';\n",
              "          element.innerHTML = '';\n",
              "          dataTable['output_type'] = 'display_data';\n",
              "          await google.colab.output.renderOutput(dataTable, element);\n",
              "          const docLink = document.createElement('div');\n",
              "          docLink.innerHTML = docLinkHtml;\n",
              "          element.appendChild(docLink);\n",
              "        }\n",
              "      </script>\n",
              "    </div>\n",
              "  </div>\n",
              "  "
            ],
            "text/plain": [
              "   Unnamed: 0                                          old_tweet  \\\n",
              "0           0  - disaat semua cowok berusaha melacak perhatia...   \n",
              "1           1  RT USER: USER siapa yang telat ngasih tau elu?...   \n",
              "2           2  41. Kadang aku berfikir, kenapa aku tetap perc...   \n",
              "3           3  USER USER AKU ITU AKU\\n\\nKU TAU MATAMU SIPIT T...   \n",
              "4           4  USER USER Kaum cebong kapir udah keliatan dong...   \n",
              "\n",
              "                                           new_tweet  \n",
              "0   di saat semua cowok berusaha melacak perhatia...  \n",
              "1   siapa yang telat memberi tau kamu edan sarap ...  \n",
              "2  41 kadang aku berpikir kenapa aku tetap percay...  \n",
              "3   aku itu aku dan ku tau matamu sipit tapi dili...  \n",
              "4   kaum cebong kafir sudah kelihatan dongoknya d...  "
            ]
          },
          "execution_count": 3,
          "metadata": {},
          "output_type": "execute_result"
        }
      ],
      "source": [
        "df.head(5)"
      ]
    },
    {
      "cell_type": "markdown",
      "metadata": {
        "id": "MlBqOKFAkunY"
      },
      "source": [
        "#CLEAN DATA "
      ]
    },
    {
      "cell_type": "code",
      "execution_count": null,
      "metadata": {
        "id": "f9NPtXdys4wj"
      },
      "outputs": [],
      "source": [
        "df_new = df.loc[:, ~df.columns.str.contains('^Unnamed')]"
      ]
    },
    {
      "cell_type": "code",
      "execution_count": null,
      "metadata": {
        "colab": {
          "base_uri": "https://localhost:8080/",
          "height": 206
        },
        "id": "yve0JQAquD5f",
        "outputId": "90cc399a-9a21-4d31-b204-43b4da6b7644"
      },
      "outputs": [
        {
          "data": {
            "text/html": [
              "\n",
              "  <div id=\"df-6ae2c8ac-080a-404f-9729-b278b9c2fdd1\">\n",
              "    <div class=\"colab-df-container\">\n",
              "      <div>\n",
              "<style scoped>\n",
              "    .dataframe tbody tr th:only-of-type {\n",
              "        vertical-align: middle;\n",
              "    }\n",
              "\n",
              "    .dataframe tbody tr th {\n",
              "        vertical-align: top;\n",
              "    }\n",
              "\n",
              "    .dataframe thead th {\n",
              "        text-align: right;\n",
              "    }\n",
              "</style>\n",
              "<table border=\"1\" class=\"dataframe\">\n",
              "  <thead>\n",
              "    <tr style=\"text-align: right;\">\n",
              "      <th></th>\n",
              "      <th>old_tweet</th>\n",
              "      <th>new_tweet</th>\n",
              "    </tr>\n",
              "  </thead>\n",
              "  <tbody>\n",
              "    <tr>\n",
              "      <th>0</th>\n",
              "      <td>- disaat semua cowok berusaha melacak perhatia...</td>\n",
              "      <td>di saat semua cowok berusaha melacak perhatia...</td>\n",
              "    </tr>\n",
              "    <tr>\n",
              "      <th>1</th>\n",
              "      <td>RT USER: USER siapa yang telat ngasih tau elu?...</td>\n",
              "      <td>siapa yang telat memberi tau kamu edan sarap ...</td>\n",
              "    </tr>\n",
              "    <tr>\n",
              "      <th>2</th>\n",
              "      <td>41. Kadang aku berfikir, kenapa aku tetap perc...</td>\n",
              "      <td>41 kadang aku berpikir kenapa aku tetap percay...</td>\n",
              "    </tr>\n",
              "    <tr>\n",
              "      <th>3</th>\n",
              "      <td>USER USER AKU ITU AKU\\n\\nKU TAU MATAMU SIPIT T...</td>\n",
              "      <td>aku itu aku dan ku tau matamu sipit tapi dili...</td>\n",
              "    </tr>\n",
              "    <tr>\n",
              "      <th>4</th>\n",
              "      <td>USER USER Kaum cebong kapir udah keliatan dong...</td>\n",
              "      <td>kaum cebong kafir sudah kelihatan dongoknya d...</td>\n",
              "    </tr>\n",
              "  </tbody>\n",
              "</table>\n",
              "</div>\n",
              "      <button class=\"colab-df-convert\" onclick=\"convertToInteractive('df-6ae2c8ac-080a-404f-9729-b278b9c2fdd1')\"\n",
              "              title=\"Convert this dataframe to an interactive table.\"\n",
              "              style=\"display:none;\">\n",
              "        \n",
              "  <svg xmlns=\"http://www.w3.org/2000/svg\" height=\"24px\"viewBox=\"0 0 24 24\"\n",
              "       width=\"24px\">\n",
              "    <path d=\"M0 0h24v24H0V0z\" fill=\"none\"/>\n",
              "    <path d=\"M18.56 5.44l.94 2.06.94-2.06 2.06-.94-2.06-.94-.94-2.06-.94 2.06-2.06.94zm-11 1L8.5 8.5l.94-2.06 2.06-.94-2.06-.94L8.5 2.5l-.94 2.06-2.06.94zm10 10l.94 2.06.94-2.06 2.06-.94-2.06-.94-.94-2.06-.94 2.06-2.06.94z\"/><path d=\"M17.41 7.96l-1.37-1.37c-.4-.4-.92-.59-1.43-.59-.52 0-1.04.2-1.43.59L10.3 9.45l-7.72 7.72c-.78.78-.78 2.05 0 2.83L4 21.41c.39.39.9.59 1.41.59.51 0 1.02-.2 1.41-.59l7.78-7.78 2.81-2.81c.8-.78.8-2.07 0-2.86zM5.41 20L4 18.59l7.72-7.72 1.47 1.35L5.41 20z\"/>\n",
              "  </svg>\n",
              "      </button>\n",
              "      \n",
              "  <style>\n",
              "    .colab-df-container {\n",
              "      display:flex;\n",
              "      flex-wrap:wrap;\n",
              "      gap: 12px;\n",
              "    }\n",
              "\n",
              "    .colab-df-convert {\n",
              "      background-color: #E8F0FE;\n",
              "      border: none;\n",
              "      border-radius: 50%;\n",
              "      cursor: pointer;\n",
              "      display: none;\n",
              "      fill: #1967D2;\n",
              "      height: 32px;\n",
              "      padding: 0 0 0 0;\n",
              "      width: 32px;\n",
              "    }\n",
              "\n",
              "    .colab-df-convert:hover {\n",
              "      background-color: #E2EBFA;\n",
              "      box-shadow: 0px 1px 2px rgba(60, 64, 67, 0.3), 0px 1px 3px 1px rgba(60, 64, 67, 0.15);\n",
              "      fill: #174EA6;\n",
              "    }\n",
              "\n",
              "    [theme=dark] .colab-df-convert {\n",
              "      background-color: #3B4455;\n",
              "      fill: #D2E3FC;\n",
              "    }\n",
              "\n",
              "    [theme=dark] .colab-df-convert:hover {\n",
              "      background-color: #434B5C;\n",
              "      box-shadow: 0px 1px 3px 1px rgba(0, 0, 0, 0.15);\n",
              "      filter: drop-shadow(0px 1px 2px rgba(0, 0, 0, 0.3));\n",
              "      fill: #FFFFFF;\n",
              "    }\n",
              "  </style>\n",
              "\n",
              "      <script>\n",
              "        const buttonEl =\n",
              "          document.querySelector('#df-6ae2c8ac-080a-404f-9729-b278b9c2fdd1 button.colab-df-convert');\n",
              "        buttonEl.style.display =\n",
              "          google.colab.kernel.accessAllowed ? 'block' : 'none';\n",
              "\n",
              "        async function convertToInteractive(key) {\n",
              "          const element = document.querySelector('#df-6ae2c8ac-080a-404f-9729-b278b9c2fdd1');\n",
              "          const dataTable =\n",
              "            await google.colab.kernel.invokeFunction('convertToInteractive',\n",
              "                                                     [key], {});\n",
              "          if (!dataTable) return;\n",
              "\n",
              "          const docLinkHtml = 'Like what you see? Visit the ' +\n",
              "            '<a target=\"_blank\" href=https://colab.research.google.com/notebooks/data_table.ipynb>data table notebook</a>'\n",
              "            + ' to learn more about interactive tables.';\n",
              "          element.innerHTML = '';\n",
              "          dataTable['output_type'] = 'display_data';\n",
              "          await google.colab.output.renderOutput(dataTable, element);\n",
              "          const docLink = document.createElement('div');\n",
              "          docLink.innerHTML = docLinkHtml;\n",
              "          element.appendChild(docLink);\n",
              "        }\n",
              "      </script>\n",
              "    </div>\n",
              "  </div>\n",
              "  "
            ],
            "text/plain": [
              "                                           old_tweet  \\\n",
              "0  - disaat semua cowok berusaha melacak perhatia...   \n",
              "1  RT USER: USER siapa yang telat ngasih tau elu?...   \n",
              "2  41. Kadang aku berfikir, kenapa aku tetap perc...   \n",
              "3  USER USER AKU ITU AKU\\n\\nKU TAU MATAMU SIPIT T...   \n",
              "4  USER USER Kaum cebong kapir udah keliatan dong...   \n",
              "\n",
              "                                           new_tweet  \n",
              "0   di saat semua cowok berusaha melacak perhatia...  \n",
              "1   siapa yang telat memberi tau kamu edan sarap ...  \n",
              "2  41 kadang aku berpikir kenapa aku tetap percay...  \n",
              "3   aku itu aku dan ku tau matamu sipit tapi dili...  \n",
              "4   kaum cebong kafir sudah kelihatan dongoknya d...  "
            ]
          },
          "execution_count": 5,
          "metadata": {},
          "output_type": "execute_result"
        }
      ],
      "source": [
        "df_new.head(5)"
      ]
    },
    {
      "cell_type": "code",
      "execution_count": null,
      "metadata": {
        "colab": {
          "base_uri": "https://localhost:8080/"
        },
        "id": "h0MzKNbiuJle",
        "outputId": "046fc7d0-e3a0-462b-8d72-e48fb33db0b9"
      },
      "outputs": [
        {
          "data": {
            "text/plain": [
              "(13169, 2)"
            ]
          },
          "execution_count": 6,
          "metadata": {},
          "output_type": "execute_result"
        }
      ],
      "source": [
        "df_new.shape"
      ]
    },
    {
      "cell_type": "markdown",
      "metadata": {
        "id": "Zk--3Ng-k2N-"
      },
      "source": [
        "#EXPORT NEW DATA"
      ]
    },
    {
      "cell_type": "code",
      "execution_count": null,
      "metadata": {
        "id": "SnxeaQKMfl5Z"
      },
      "outputs": [],
      "source": [
        "df_new.to_csv('output_filename_cleann.csv')"
      ]
    },
    {
      "cell_type": "markdown",
      "metadata": {
        "id": "rj1ReIjckhTR"
      },
      "source": [
        "#CREATE DATABASE"
      ]
    },
    {
      "cell_type": "code",
      "execution_count": null,
      "metadata": {
        "colab": {
          "base_uri": "https://localhost:8080/"
        },
        "id": "z_jtXAp_ojKR",
        "outputId": "1d9ae3ca-d3d8-4d3e-dd70-4e8df2cd1438"
      },
      "outputs": [
        {
          "name": "stdout",
          "output_type": "stream",
          "text": [
            "Database created and Successfully Connected to SQLite\n",
            "SQLite Database Version is:  [('3.22.0',)]\n"
          ]
        }
      ],
      "source": [
        "try:\n",
        "    conn = sqlite3.connect('datacleaning.db')\n",
        "    cursor = conn.cursor()\n",
        "    print(\"Database created and Successfully Connected to SQLite\")\n",
        "\n",
        "    sqlite_select_Query = \"select sqlite_version();\"\n",
        "    cursor.execute(sqlite_select_Query)\n",
        "    record = cursor.fetchall()\n",
        "    print(\"SQLite Database Version is: \", record)\n",
        "    cursor.close()\n",
        "\n",
        "except sqlite3.Error as error:\n",
        "    print(\"Error while connecting to sqlite\", error)"
      ]
    },
    {
      "cell_type": "code",
      "execution_count": null,
      "metadata": {
        "colab": {
          "base_uri": "https://localhost:8080/"
        },
        "id": "tAIor-oRo3mN",
        "outputId": "e9613d06-c933-4a8d-f7c6-414bb7223ab5"
      },
      "outputs": [
        {
          "data": {
            "text/plain": [
              "<sqlite3.Cursor at 0x7f8520e3c8f0>"
            ]
          },
          "execution_count": 9,
          "metadata": {},
          "output_type": "execute_result"
        }
      ],
      "source": [
        "create_sql = \"CREATE TABLE IF NOT EXISTS testing(old_tweet TEXT, new_tweet TEXT)\"\n",
        "cursor = conn.cursor()\n",
        "cursor.execute(create_sql)"
      ]
    },
    {
      "cell_type": "code",
      "execution_count": null,
      "metadata": {
        "colab": {
          "base_uri": "https://localhost:8080/"
        },
        "id": "FoSGV-Mppv8i",
        "outputId": "18bf380a-4f95-49b5-e208-5b5c0197750d"
      },
      "outputs": [
        {
          "name": "stdout",
          "output_type": "stream",
          "text": [
            "The SQLite connection is closed\n"
          ]
        }
      ],
      "source": [
        "for row in df_new.itertuples():\n",
        "    cursor.execute('''\n",
        "                INSERT INTO testing (old_tweet, new_tweet)\n",
        "                VALUES (?,?)\n",
        "                ''',\n",
        "                (row.old_tweet, \n",
        "                row.new_tweet,\n",
        "                ))\n",
        "conn.commit()\n",
        "conn.close()\n",
        "print(\"The SQLite connection is closed\")"
      ]
    }
  ],
  "metadata": {
    "colab": {
      "collapsed_sections": [],
      "provenance": []
    },
    "kernelspec": {
      "display_name": "Python 3.10.6 64-bit",
      "language": "python",
      "name": "python3"
    },
    "language_info": {
      "codemirror_mode": {
        "name": "ipython",
        "version": 3
      },
      "file_extension": ".py",
      "mimetype": "text/x-python",
      "name": "python",
      "nbconvert_exporter": "python",
      "pygments_lexer": "ipython3",
      "version": "3.10.6"
    },
    "vscode": {
      "interpreter": {
        "hash": "ddeba87bc451a852a8d1241edcf73bde435a46fad9134fcee367abb726356eb7"
      }
    }
  },
  "nbformat": 4,
  "nbformat_minor": 0
}
