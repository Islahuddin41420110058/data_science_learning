{
  "nbformat": 4,
  "nbformat_minor": 0,
  "metadata": {
    "colab": {
      "provenance": []
    },
    "kernelspec": {
      "name": "python3",
      "display_name": "Python 3"
    },
    "language_info": {
      "name": "python"
    }
  },
  "cells": [
    {
      "cell_type": "markdown",
      "source": [],
      "metadata": {
        "id": "5lJeg-JPvfuG"
      }
    },
    {
      "cell_type": "code",
      "execution_count": null,
      "metadata": {
        "id": "1T_1CihqvA8_"
      },
      "outputs": [],
      "source": [
        "import pandas as pd\n",
        "import matplotlib.pyplot as plt\n",
        "import sns\n",
        "import re \n",
        "import gradio as gr\n",
        "from flask import request, Flask, jsonify\n",
        "from flasgger import Swagger, LazyString, LazyJSONEncoder\n",
        "from flasgger import swag_from"
      ]
    }
  ]
}